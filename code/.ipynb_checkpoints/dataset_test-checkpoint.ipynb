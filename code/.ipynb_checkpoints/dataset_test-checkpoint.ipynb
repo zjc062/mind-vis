{
 "cells": [
  {
   "cell_type": "code",
   "execution_count": 1,
   "metadata": {},
   "outputs": [],
   "source": [
    "from torch.utils.data import Dataset\n",
    "import numpy as np\n",
    "import os\n",
    "from scipy import interpolate\n",
    "import json\n",
    "import csv\n",
    "import torch\n",
    "from pathlib import Path\n",
    "from PIL import Image\n",
    "import torchvision.transforms as transforms"
   ]
  },
  {
   "cell_type": "code",
   "execution_count": 13,
   "metadata": {},
   "outputs": [],
   "source": [
    "def printNpStats(matrix):\n",
    "    print(\"Shape:\", matrix.shape)\n",
    "    print(\"Mean:\", np.mean(matrix))\n",
    "    print(\"Variance:\", np.var(matrix))\n",
    "    print(\"Max:\", np.max(matrix))\n",
    "    print(\"Min:\", np.min(matrix))"
   ]
  },
  {
   "cell_type": "code",
   "execution_count": 17,
   "metadata": {},
   "outputs": [],
   "source": [
    "def identity(x):\n",
    "    return x\n",
    "def pad_to_patch_size(x, patch_size):\n",
    "    assert x.ndim == 2\n",
    "    return np.pad(x, ((0,0),(0, patch_size-x.shape[1]%patch_size)), 'wrap')\n",
    "def normalize(x, mean=None, std=None):\n",
    "    mean = np.mean(x) if mean is None else mean\n",
    "    std = np.std(x) if std is None else std\n",
    "    return (x - mean) / (std * 1.0)"
   ]
  },
  {
   "cell_type": "markdown",
   "metadata": {},
   "source": [
    "# NSD Dataset"
   ]
  },
  {
   "cell_type": "code",
   "execution_count": 7,
   "metadata": {},
   "outputs": [],
   "source": [
    "path = '/mnt/isilon/CSC6/HelenZhouLab/HZLHD0/InternsnStudents/Interns/jonathan/datasets/NSD'\n",
    "subjects = ['subj01', 'subj02', 'subj03', 'subj04', 'subj05', 'subj06', 'subj07', 'subj08']"
   ]
  },
  {
   "cell_type": "code",
   "execution_count": 8,
   "metadata": {},
   "outputs": [],
   "source": [
    "sub = \"subj01\"\n",
    "\n",
    "fmri_dir = os.path.join(path, sub, 'training_split', 'training_fmri')\n",
    "lh_fmri = np.load(os.path.join(fmri_dir, 'lh_training_fmri.npy'))\n",
    "rh_fmri = np.load(os.path.join(fmri_dir, 'rh_training_fmri.npy'))\n",
    "\n",
    "print('LH training fMRI data shape:')\n",
    "print(lh_fmri.shape)\n",
    "print('(Training stimulus images × LH vertices)')\n",
    "\n",
    "print('\\nRH training fMRI data shape:')\n",
    "print(rh_fmri.shape)\n",
    "print('(Training stimulus images × RH vertices)')"
   ]
  },
  {
   "cell_type": "code",
   "execution_count": 10,
   "metadata": {},
   "outputs": [],
   "source": [
    "fmri_sub = np.concatenate((lh_fmri, rh_fmri), axis=1)\n",
    "print(fmri_sub.shape)"
   ]
  },
  {
   "cell_type": "code",
   "execution_count": 14,
   "metadata": {},
   "outputs": [
    {
     "name": "stdout",
     "output_type": "stream",
     "text": [
      "Shape: (9841, 39548)\n",
      "Mean: 0.0021823181\n",
      "Variance: 0.50268227\n",
      "Max: 6.3958163\n",
      "Min: -6.224722\n"
     ]
    }
   ],
   "source": [
    "printNpStats(fmri_sub)"
   ]
  },
  {
   "cell_type": "code",
   "execution_count": 25,
   "metadata": {},
   "outputs": [
    {
     "name": "stdout",
     "output_type": "stream",
     "text": [
      "Shape: (9841, 39552)\n",
      "Mean: -5.3962856e-09\n",
      "Variance: 1.0000061\n",
      "Max: 9.017823\n",
      "Min: -8.7826605\n"
     ]
    }
   ],
   "source": [
    "fmri_sub = normalize(pad_to_patch_size(fmri_sub, patch_size))\n",
    "printNpStats(fmri_sub)"
   ]
  },
  {
   "cell_type": "code",
   "execution_count": 26,
   "metadata": {},
   "outputs": [
    {
     "name": "stdout",
     "output_type": "stream",
     "text": [
      "[[-1.2185764  -0.28965947 -0.8865727  ... -0.28965947 -0.8865727\n",
      "  -1.9951377 ]\n",
      " [ 1.0158539  -0.4024323   1.3003923  ... -0.4024323   1.3003923\n",
      "  -0.00702139]\n",
      " [-0.43811968 -1.3179294   2.42168    ... -1.3179294   2.42168\n",
      "   0.13285132]\n",
      " ...\n",
      " [ 0.8680637   0.33460727  1.1759323  ...  0.33460727  1.1759323\n",
      "  -0.60141593]\n",
      " [-0.397421   -0.23484501  0.83007205 ... -0.23484501  0.83007205\n",
      "   1.5428822 ]\n",
      " [-1.9804912  -0.5291305  -0.94592166 ... -0.5291305  -0.94592166\n",
      "  -1.3088195 ]]\n"
     ]
    }
   ],
   "source": [
    "print(fmri_sub)"
   ]
  },
  {
   "cell_type": "markdown",
   "metadata": {},
   "source": [
    "# BOLD Dataset"
   ]
  },
  {
   "cell_type": "code",
   "execution_count": 20,
   "metadata": {},
   "outputs": [],
   "source": [
    "path = '/mnt/isilon/CSC6/HelenZhouLab/HZLHD0/InternsnStudents/Interns/jonathan/datasets/BOLD5000'\n",
    "patch_size = 16\n",
    "image_transform = identity\n",
    "subjects = ['CSI1', 'CSI2', 'CSI3', 'CSI4']\n",
    "include_nonavg_test = False\n",
    "roi_list = ['EarlyVis', 'LOC', 'OPA', 'PPA', 'RSC']\n",
    "\n",
    "fmri_path = os.path.join(path, 'BOLD5000_GLMsingle_ROI_betas/py')\n",
    "img_path = os.path.join(path, 'BOLD5000_Stimuli')\n",
    "imgs_dict = np.load(os.path.join(img_path, 'Scene_Stimuli/Presented_Stimuli/img_dict.npy'),allow_pickle=True).item()\n",
    "repeated_imgs_list = np.loadtxt(os.path.join(img_path, 'Scene_Stimuli', 'repeated_stimuli_113_list.txt'), dtype=str)"
   ]
  },
  {
   "cell_type": "code",
   "execution_count": 22,
   "metadata": {},
   "outputs": [],
   "source": [
    "fmri_files = [f for f in os.listdir(fmri_path) if f.endswith('.npy')]\n",
    "fmri_files.sort()\n",
    "\n",
    "sub = \"CSI1\"\n",
    "\n",
    "# load fmri\n",
    "fmri_data_sub = []\n",
    "for roi in roi_list:\n",
    "    for npy in fmri_files:\n",
    "        if npy.endswith('.npy') and sub in npy and roi in npy:\n",
    "            fmri_data_sub.append(np.load(os.path.join(fmri_path, npy)))\n",
    "fmri_data_sub = np.concatenate(fmri_data_sub, axis=-1) # concatenate all rois"
   ]
  },
  {
   "cell_type": "code",
   "execution_count": 23,
   "metadata": {},
   "outputs": [
    {
     "name": "stdout",
     "output_type": "stream",
     "text": [
      "Shape: (5254, 1685)\n",
      "Mean: -6.253479e-10\n",
      "Variance: 1.0000005\n",
      "Max: 8.60656\n",
      "Min: -10.2187605\n"
     ]
    }
   ],
   "source": [
    "printNpStats(fmri_data_sub)"
   ]
  },
  {
   "cell_type": "code",
   "execution_count": 24,
   "metadata": {},
   "outputs": [
    {
     "name": "stdout",
     "output_type": "stream",
     "text": [
      "Shape: (5254, 1696)\n",
      "Mean: -4.9905635e-10\n",
      "Variance: 1.0\n",
      "Max: 8.606558\n",
      "Min: -10.218758\n"
     ]
    }
   ],
   "source": [
    "fmri_data_sub = normalize(pad_to_patch_size(fmri_data_sub, patch_size))\n",
    "printNpStats(fmri_data_sub)"
   ]
  },
  {
   "cell_type": "code",
   "execution_count": 30,
   "metadata": {},
   "outputs": [],
   "source": [
    "def get_stimuli_list(root, sub):\n",
    "    sti_name = []\n",
    "    path = os.path.join(root, 'Stimuli_Presentation_Lists', sub)\n",
    "    folders = os.listdir(path)\n",
    "    folders.sort()\n",
    "    for folder in folders:\n",
    "        if not os.path.isdir(os.path.join(path, folder)):\n",
    "            continue\n",
    "        files = os.listdir(os.path.join(path, folder))\n",
    "        files.sort()\n",
    "        for file in files:\n",
    "            if file.endswith('.txt'):\n",
    "                sti_name += list(np.loadtxt(os.path.join(path, folder, file), dtype=str))\n",
    "\n",
    "    sti_name_to_return = []\n",
    "    for name in sti_name:\n",
    "        if name.startswith('rep_'):\n",
    "            name = name.replace('rep_', '', 1)\n",
    "        sti_name_to_return.append(name)\n",
    "    return sti_name_to_return\n",
    "\n",
    "# load image\n",
    "img_files = get_stimuli_list(img_path, sub)\n",
    "img_data_sub = [imgs_dict[name] for name in img_files]"
   ]
  },
  {
   "cell_type": "code",
   "execution_count": 32,
   "metadata": {},
   "outputs": [],
   "source": [
    "def list_get_all_index(list, value):\n",
    "    return [i for i, v in enumerate(list) if v == value]\n",
    "\n",
    "# split train test\n",
    "test_idx = [list_get_all_index(img_files, img) for img in repeated_imgs_list]\n",
    "test_idx = [i for i in test_idx if len(i) > 0] # remove empy list for CSI4\n",
    "test_fmri = np.stack([fmri_data_sub[idx].mean(axis=0) for idx in test_idx])\n",
    "test_img = np.stack([img_data_sub[idx[0]] for idx in test_idx])"
   ]
  },
  {
   "cell_type": "code",
   "execution_count": 33,
   "metadata": {},
   "outputs": [],
   "source": [
    "test_idx_flatten = []\n",
    "for idx in test_idx:\n",
    "    test_idx_flatten += idx # flatten\n",
    "if include_nonavg_test:\n",
    "    test_fmri = np.concatenate([test_fmri, fmri_data_sub[test_idx_flatten]], axis=0)\n",
    "    test_img = np.concatenate([test_img, np.stack([img_data_sub[idx] for idx in test_idx_flatten])], axis=0)\n",
    "\n",
    "train_idx = [i for i in range(len(img_files)) if i not in test_idx_flatten]\n",
    "train_img = np.stack([img_data_sub[idx] for idx in train_idx])\n",
    "train_fmri = fmri_data_sub[train_idx]"
   ]
  },
  {
   "cell_type": "code",
   "execution_count": 36,
   "metadata": {},
   "outputs": [
    {
     "name": "stdout",
     "output_type": "stream",
     "text": [
      "Shape: (4803, 256, 256, 3)\n",
      "Mean: 107.18298585843937\n",
      "Variance: 3806.3570156922074\n",
      "Max: 255\n",
      "Min: 0\n"
     ]
    }
   ],
   "source": [
    "printNpStats(train_img)"
   ]
  },
  {
   "cell_type": "code",
   "execution_count": 37,
   "metadata": {},
   "outputs": [
    {
     "name": "stdout",
     "output_type": "stream",
     "text": [
      "Shape: (4803, 1696)\n",
      "Mean: -0.0009539404\n",
      "Variance: 1.0008868\n",
      "Max: 8.606558\n",
      "Min: -10.218758\n"
     ]
    }
   ],
   "source": [
    "printNpStats(train_fmri)"
   ]
  },
  {
   "cell_type": "code",
   "execution_count": 38,
   "metadata": {},
   "outputs": [
    {
     "name": "stdout",
     "output_type": "stream",
     "text": [
      "Shape: (113, 256, 256, 3)\n",
      "Mean: 107.49450116452918\n",
      "Variance: 4136.151750152919\n",
      "Max: 255\n",
      "Min: 0\n"
     ]
    }
   ],
   "source": [
    "printNpStats(test_img)"
   ]
  },
  {
   "cell_type": "code",
   "execution_count": 39,
   "metadata": {},
   "outputs": [
    {
     "name": "stdout",
     "output_type": "stream",
     "text": [
      "Shape: (113, 1696)\n",
      "Mean: 0.010219635\n",
      "Variance: 0.32646358\n",
      "Max: 2.624513\n",
      "Min: -2.789681\n"
     ]
    }
   ],
   "source": [
    "printNpStats(test_fmri)"
   ]
  }
 ],
 "metadata": {
  "kernelspec": {
   "display_name": "Python 3 (ipykernel)",
   "language": "python",
   "name": "python3"
  },
  "language_info": {
   "codemirror_mode": {
    "name": "ipython",
    "version": 3
   },
   "file_extension": ".py",
   "mimetype": "text/x-python",
   "name": "python",
   "nbconvert_exporter": "python",
   "pygments_lexer": "ipython3",
   "version": "3.8.5"
  }
 },
 "nbformat": 4,
 "nbformat_minor": 2
}
